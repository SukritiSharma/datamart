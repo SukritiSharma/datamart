{
 "cells": [
  {
   "cell_type": "code",
   "execution_count": 1,
   "metadata": {},
   "outputs": [],
   "source": [
    "from datamart import search, augment\n",
    "import json\n",
    "import pandas as pd"
   ]
  },
  {
   "cell_type": "code",
   "execution_count": 5,
   "metadata": {},
   "outputs": [
    {
     "name": "stdout",
     "output_type": "stream",
     "text": [
      "----- ORIGINAL DATA ------\n\n   Year Image                 Name                   Inducted members  \\\n0  1986   NaN          Chuck Berry                                NaN   \n1  1986   NaN          James Brown                                NaN   \n2  1986   NaN          Ray Charles                                NaN   \n3  1986   NaN            Sam Cooke                                NaN   \n4  1986   NaN          Fats Domino                                NaN   \n5  1986   NaN  The Everly Brothers  Don Everly and Phil Everly . [12]   \n6  1986   NaN          Buddy Holly                                NaN   \n7  1986   NaN      Jerry Lee Lewis                                NaN   \n8  1986   NaN       Little Richard                                NaN   \n9  1986   NaN        Elvis Presley                                NaN   \n\n         Inducted by [11]  \n0     Keith Richards [N2]  \n1      Steve Winwood [N2]  \n2       Quincy Jones [N2]  \n3        Herb Alpert [N2]  \n4         Billy Joel [N2]  \n5         Neil Young [N2]  \n6       John Fogerty [N2]  \n7       Hank Williams Jr.  \n8           Roberta Flack  \n9  Julian and Sean Lennon  \n"
     ]
    }
   ],
   "source": [
    "hof_df = pd.read_csv('./example/hof_example/hof.csv')\n",
    "print('----- ORIGINAL DATA ------')\n",
    "print(hof_df.iloc[:10, :])"
   ]
  },
  {
   "cell_type": "code",
   "execution_count": 6,
   "metadata": {},
   "outputs": [
    {
     "name": "stdout",
     "output_type": "stream",
     "text": [
      "\n----- SEARCH RESULTS (got 3 results)-----\n[ Dataset id: 285020000 ]\n"
     ]
    },
    {
     "name": "stdout",
     "output_type": "stream",
     "text": [
      "                                    source   subject_label category  \\\n0   http://www.wikidata.org/entity/Q109871         Anthrax     band   \n1    http://www.wikidata.org/entity/Q15615       Lil Wayne    human   \n2   http://www.wikidata.org/entity/Q704262        Schiller     band   \n3     http://www.wikidata.org/entity/Q1453  Alexandra Stan    human   \n4    http://www.wikidata.org/entity/Q19848       Lady Gaga    human   \n5    http://www.wikidata.org/entity/Q32645       Die Ärzte     band   \n6  http://www.wikidata.org/entity/Q1091401        Sweetbox     band   \n7    http://www.wikidata.org/entity/Q58735      Lily Allen    human   \n8   http://www.wikidata.org/entity/Q165911           Usher    human   \n9  http://www.wikidata.org/entity/Q7488920    Shannon Noll    human   \n\n                               prop_value                 value_label  \n0  http://www.wikidata.org/entity/Q574339         Anthrax discography  \n1  http://www.wikidata.org/entity/Q579033       Lil Wayne discography  \n2  http://www.wikidata.org/entity/Q573816        Schiller discography  \n3  http://www.wikidata.org/entity/Q579607  Alexandra Stan discography  \n4  http://www.wikidata.org/entity/Q568635       Lady Gaga discography  \n5  http://www.wikidata.org/entity/Q577446       Die Ärzte discography  \n6  http://www.wikidata.org/entity/Q579559        Sweetbox discography  \n7  http://www.wikidata.org/entity/Q550087      Lily Allen discography  \n8  http://www.wikidata.org/entity/Q570543           Usher discography  \n9  http://www.wikidata.org/entity/Q555479    Shannon Noll discography  \n[ Dataset id: 282040000 ]\n"
     ]
    },
    {
     "name": "stdout",
     "output_type": "stream",
     "text": [
      "                                     source  \\\n0   http://www.wikidata.org/entity/Q1636872   \n1    http://www.wikidata.org/entity/Q951416   \n2  http://www.wikidata.org/entity/Q10405586   \n3   http://www.wikidata.org/entity/Q1563122   \n4   http://www.wikidata.org/entity/Q3313837   \n5  http://www.wikidata.org/entity/Q54995833   \n6   http://www.wikidata.org/entity/Q1209178   \n7   http://www.wikidata.org/entity/Q5036242   \n8   http://www.wikidata.org/entity/Q2991911   \n9   http://www.wikidata.org/entity/Q3788538   \n\n                         subject_label             category  \\\n0                           Slipstream                 film   \n1  Wer nur den lieben Gott läßt walten          Sacred Song   \n2       Allein Gott in der Höh sei Ehr     Sacred Song;hymn   \n3                       I Care for You               single   \n4                               August                 film   \n5                   A Time for Growing                opera   \n6          24 Caprices for Solo Violin  musical composition   \n7                       Caprice No. 13  musical composition   \n8                Violin Concerto No. 2      violin concerto   \n9            Sonata per la Grand Viola         viola sonata   \n\n                              prop_value        value_label  \n0  http://www.wikidata.org/entity/Q65932    Anthony Hopkins  \n1  http://www.wikidata.org/entity/Q65783      Georg Neumark  \n2  http://www.wikidata.org/entity/Q65601    Nikolaus Decius  \n3  http://www.wikidata.org/entity/Q65578  Maximilian Mutzke  \n4  http://www.wikidata.org/entity/Q65932    Anthony Hopkins  \n5  http://www.wikidata.org/entity/Q65932    Anthony Hopkins  \n6  http://www.wikidata.org/entity/Q66075   Niccolò Paganini  \n7  http://www.wikidata.org/entity/Q66075   Niccolò Paganini  \n8  http://www.wikidata.org/entity/Q66075   Niccolò Paganini  \n9  http://www.wikidata.org/entity/Q66075   Niccolò Paganini  \n[ Dataset id: 285210000 ]\n"
     ]
    },
    {
     "name": "stdout",
     "output_type": "stream",
     "text": [
      "                                     source     subject_label  \\\n0   http://www.wikidata.org/entity/Q6129083        Since Then   \n1  http://www.wikidata.org/entity/Q30638455  ...aus dem Bauch   \n2  http://www.wikidata.org/entity/Q28451982            Balmes   \n3   http://www.wikidata.org/entity/Q7228981  Pop Artificielle   \n4  http://www.wikidata.org/entity/Q16035448   We Have Arrived   \n5   http://www.wikidata.org/entity/Q5447331      Fiesta Songs   \n6  http://www.wikidata.org/entity/Q30639106    Durch Einander   \n7  http://www.wikidata.org/entity/Q18356466     Second Nature   \n8  http://www.wikidata.org/entity/Q30607559      Black Forest   \n9   http://www.wikidata.org/entity/Q3491541        Kim Krüger   \n\n          category                             prop_value        value_label  \n0            album  http://www.wikidata.org/entity/Q65635         Ian Pooley  \n1            album  http://www.wikidata.org/entity/Q65578  Maximilian Mutzke  \n2             song  http://www.wikidata.org/entity/Q65635         Ian Pooley  \n3            album  http://www.wikidata.org/entity/Q65843        Uwe Schmidt  \n4           single  http://www.wikidata.org/entity/Q65829       Marc Trauner  \n5            album  http://www.wikidata.org/entity/Q65843        Uwe Schmidt  \n6            album  http://www.wikidata.org/entity/Q65578  Maximilian Mutzke  \n7            album  http://www.wikidata.org/entity/Q65843        Uwe Schmidt  \n8            album  http://www.wikidata.org/entity/Q65578  Maximilian Mutzke  \n9  fictional human  http://www.wikidata.org/entity/Q65550      Katja Woywood  \n"
     ]
    }
   ],
   "source": [
    "query = {\n",
    "    \"dataset\": {\n",
    "        \"about\": \"rock and roll, music, rock music, rock artist, rock band, music award, artist award, hall of fame, singer\"\n",
    "    },\n",
    "    \"required_variables\": [\n",
    "        {\n",
    "            \"type\": \"dataframe_columns\",\n",
    "            \"index\": [2]\n",
    "        }\n",
    "    ]\n",
    "}\n",
    "candidates = search(query, hof_df)\n",
    "print('----- SEARCH RESULTS (got %d results)-----' % len(candidates))\n",
    "for cand in candidates:\n",
    "    print('\\n\\n[ Dataset id: %s ]' % cand.id)\n",
    "    print(cand.materialize().iloc[:10, :])"
   ]
  },
  {
   "cell_type": "code",
   "execution_count": 7,
   "metadata": {},
   "outputs": [
    {
     "name": "stdout",
     "output_type": "stream",
     "text": [
      "\n\n\n----- AUGMENT WITH THE 3RD RESULT -----\n"
     ]
    },
    {
     "name": "stdout",
     "output_type": "stream",
     "text": [
      "   Year Image                 Name                   Inducted members  \\\n0  1986   NaN          Chuck Berry                                NaN   \n1  1986   NaN          James Brown                                NaN   \n2  1986   NaN          Ray Charles                                NaN   \n3  1986   NaN            Sam Cooke                                NaN   \n4  1986   NaN          Fats Domino                                NaN   \n5  1986   NaN  The Everly Brothers  Don Everly and Phil Everly . [12]   \n6  1986   NaN          Buddy Holly                                NaN   \n7  1986   NaN      Jerry Lee Lewis                                NaN   \n8  1986   NaN       Little Richard                                NaN   \n9  1986   NaN        Elvis Presley                                NaN   \n\n         Inducted by [11]                                    source  \\\n0     Keith Richards [N2]                                       NaN   \n1      Steve Winwood [N2]   http://www.wikidata.org/entity/Q7092873   \n2       Quincy Jones [N2]  http://www.wikidata.org/entity/Q11246171   \n3        Herb Alpert [N2]                                       NaN   \n4         Billy Joel [N2]   http://www.wikidata.org/entity/Q7655451   \n5         Neil Young [N2]                                       NaN   \n6       John Fogerty [N2]                                       NaN   \n7       Hank Williams Jr.                                       NaN   \n8           Roberta Flack                                       NaN   \n9  Julian and Sean Lennon                                       NaN   \n\n       subject_label    category                               prop_value  \n0                NaN         NaN                                      NaN  \n1   One Man Clapping  live album  http://www.wikidata.org/entity/Q1277864  \n2               Sign      single  http://www.wikidata.org/entity/Q2324465  \n3                NaN         NaN                                      NaN  \n4  Sweet Potatoe Pie      single    http://www.wikidata.org/entity/Q32959  \n5                NaN         NaN                                      NaN  \n6                NaN         NaN                                      NaN  \n7                NaN         NaN                                      NaN  \n8                NaN         NaN                                      NaN  \n9                NaN         NaN                                      NaN  \n"
     ]
    }
   ],
   "source": [
    "print('----- AUGMENT WITH THE 3RD RESULT -----')\n",
    "res = augment(hof_df, candidates[2])\n",
    "print(res.iloc[:10, :])\n"
   ]
  },
  {
   "cell_type": "code",
   "execution_count": null,
   "metadata": {},
   "outputs": [],
   "source": []
  }
 ],
 "metadata": {},
 "nbformat": 4,
 "nbformat_minor": 0
}
