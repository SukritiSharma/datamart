{
 "cells": [
  {
   "cell_type": "code",
   "execution_count": 5,
   "metadata": {},
   "outputs": [],
   "source": [
    "import sys\n",
    "sys.path.append('/Users/dongyuli/isi/repos/datamart')\n",
    "from datamart import search, augment\n",
    "import json\n",
    "import pandas as pd"
   ]
  },
  {
   "cell_type": "code",
   "execution_count": 6,
   "metadata": {},
   "outputs": [
    {
     "name": "stdout",
     "output_type": "stream",
     "text": [
      "----- ORIGINAL DATA ------\n",
      "   Year                 Name                   Inducted members  \\\n",
      "0  1986          Chuck Berry                                NaN   \n",
      "1  1986          James Brown                                NaN   \n",
      "2  1986          Ray Charles                                NaN   \n",
      "3  1986            Sam Cooke                                NaN   \n",
      "4  1986          Fats Domino                                NaN   \n",
      "5  1986  The Everly Brothers  Don Everly and Phil Everly . [12]   \n",
      "6  1986          Buddy Holly                                NaN   \n",
      "7  1986      Jerry Lee Lewis                                NaN   \n",
      "8  1986       Little Richard                                NaN   \n",
      "9  1986        Elvis Presley                                NaN   \n",
      "\n",
      "         Inducted by [11]  \n",
      "0     Keith Richards [N2]  \n",
      "1      Steve Winwood [N2]  \n",
      "2       Quincy Jones [N2]  \n",
      "3        Herb Alpert [N2]  \n",
      "4         Billy Joel [N2]  \n",
      "5         Neil Young [N2]  \n",
      "6       John Fogerty [N2]  \n",
      "7       Hank Williams Jr.  \n",
      "8           Roberta Flack  \n",
      "9  Julian and Sean Lennon  \n"
     ]
    }
   ],
   "source": [
    "hof_df = pd.read_csv('/Users/dongyuli/isi/repos/datamart/example/hof_example/hof.csv')\n",
    "print('----- ORIGINAL DATA ------')\n",
    "print(hof_df.iloc[:10, :])"
   ]
  },
  {
   "cell_type": "code",
   "execution_count": 7,
   "metadata": {},
   "outputs": [
    {
     "name": "stdout",
     "output_type": "stream",
     "text": [
      "----- SEARCH RESULTS (got 3 results)-----\n",
      "\n",
      "\n",
      "[ Dataset id: 285020000 ]\n",
      "['source: \\n', 'category: \\n', 'prop_value: \\n', \"subject_label: ['http://www.wikidata.org/entity/Q163722', 'http://www.wikidata.org/entity/Q125886', 'http://www.wikidata.org/entity/Q126584', 'http://www.wikidata.org/entity/Q125014', 'http://www.wikidata.org/entity/Q167557']\\n\", \"value_label: ['Karel Gott discography', 'Selena Gomez & the Scene discography', 'Eurythmics discography', 'Dark Tranquillity discography', 'AKB48 discography']\\n\"]\n",
      "\n",
      "\n",
      "[ Dataset id: 282040000 ]\n",
      "['source: \\n', 'category: \\n', 'prop_value: \\n', \"subject_label: ['http://www.wikidata.org/entity/Q66075', 'http://www.wikidata.org/entity/Q65932', 'http://www.wikidata.org/entity/Q65783', 'http://www.wikidata.org/entity/Q65601', 'http://www.wikidata.org/entity/Q65578']\\n\", \"value_label: ['Niccolò Paganini', 'Anthony Hopkins', 'Georg Neumark', 'Nikolaus Decius', 'Maximilian Mutzke']\\n\"]\n",
      "\n",
      "\n",
      "[ Dataset id: 285210000 ]\n",
      "['source: \\n', 'category: \\n', 'prop_value: \\n', \"subject_label: ['http://www.wikidata.org/entity/Q65635', 'http://www.wikidata.org/entity/Q65578', 'http://www.wikidata.org/entity/Q65843', 'http://www.wikidata.org/entity/Q65829', 'http://www.wikidata.org/entity/Q65550']\\n\", \"value_label: ['Ian Pooley', 'Maximilian Mutzke', 'Uwe Schmidt', 'Marc Trauner', 'Katja Woywood']\\n\"]\n"
     ]
    }
   ],
   "source": [
    "query = {\n",
    "    \"dataset\": {\n",
    "        \"about\": \"rock and roll, music, rock music, rock artist, rock band, music award, artist award, hall of fame, singer\"\n",
    "    },\n",
    "    \"required_variables\": [\n",
    "        {\n",
    "            \"type\": \"dataframe_columns\",\n",
    "            \"index\": [1]\n",
    "        }\n",
    "    ]\n",
    "}\n",
    "candidates = search(query, hof_df)\n",
    "print('----- SEARCH RESULTS (got %d results)-----' % len(candidates))\n",
    "for cand in candidates:\n",
    "    print('\\n\\n[ Dataset id: %s ]' % cand.id)\n",
    "    print(['%s: %s\\n'%(x['name'], x.get('named_entity')[:5] if x.get('named_entity') else '') \n",
    "           for x in cand.metadata['variables']])"
   ]
  },
  {
   "cell_type": "code",
   "execution_count": 8,
   "metadata": {},
   "outputs": [
    {
     "name": "stdout",
     "output_type": "stream",
     "text": [
      "----- AUGMENT WITH THE 3RD RESULT -----\n",
      "(It can be very slow to materialize the results datasets, as each wikidata property can have tons of records)\n",
      "   Year         Name Inducted members     Inducted by [11]  \\\n",
      "0  1986  Chuck Berry              NaN  Keith Richards [N2]   \n",
      "1  1986  James Brown              NaN   Steve Winwood [N2]   \n",
      "2  1986  Ray Charles              NaN    Quincy Jones [N2]   \n",
      "3  1986    Sam Cooke              NaN     Herb Alpert [N2]   \n",
      "4  1986  Fats Domino              NaN      Billy Joel [N2]   \n",
      "\n",
      "                                     source            subject_label category  \\\n",
      "0                                       NaN                      NaN      NaN   \n",
      "1   http://www.wikidata.org/entity/Q7977106  We're Going to Miss You   single   \n",
      "2  http://www.wikidata.org/entity/Q11246171                     Sign   single   \n",
      "3                                       NaN                      NaN      NaN   \n",
      "4   http://www.wikidata.org/entity/Q7189560            Physical Funk   single   \n",
      "\n",
      "                                prop_value  \n",
      "0                                      NaN  \n",
      "1  http://www.wikidata.org/entity/Q1277864  \n",
      "2  http://www.wikidata.org/entity/Q2324465  \n",
      "3                                      NaN  \n",
      "4    http://www.wikidata.org/entity/Q32959  \n"
     ]
    }
   ],
   "source": [
    "print('----- AUGMENT WITH THE 3RD RESULT -----')\n",
    "print('(It can be very slow to materialize the results datasets, as each wikidata property can have tons of records)')\n",
    "res = augment(hof_df, candidates[-1])\n",
    "print(res.head())\n",
    "res.to_csv('/Users/dongyuli/isi/repos/datamart/example/hof_example/augmented.csv', index=False)\n"
   ]
  },
  {
   "cell_type": "code",
   "execution_count": null,
   "metadata": {},
   "outputs": [],
   "source": []
  }
 ],
 "metadata": {
  "kernelspec": {
   "display_name": "Python 3",
   "language": "python",
   "name": "python3"
  },
  "language_info": {
   "codemirror_mode": {
    "name": "ipython",
    "version": 3
   },
   "file_extension": ".py",
   "mimetype": "text/x-python",
   "name": "python",
   "nbconvert_exporter": "python",
   "pygments_lexer": "ipython3",
   "version": "3.6.6"
  }
 },
 "nbformat": 4,
 "nbformat_minor": 1
}
