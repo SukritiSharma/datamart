{
 "cells": [
  {
   "cell_type": "code",
   "execution_count": 1,
   "metadata": {},
   "outputs": [],
   "source": [
    "import sys\n",
    "sys.path.append('../..')\n",
    "from datamart import search, augment\n",
    "from datamart.utilities.utils import Utils, SEARCH_URL\n",
    "import pandas as pd\n",
    "import json"
   ]
  },
  {
   "cell_type": "code",
   "execution_count": 2,
   "metadata": {},
   "outputs": [
    {
     "name": "stdout",
     "output_type": "stream",
     "text": [
      "- READ THE SUPPLY DATASET -\n",
      "\n",
      "   d3mIndex  GameID        Date          Team      Opponent  \\\n",
      "0         0       0  14-06-2018        Russia  Saudi Arabia   \n",
      "1         1       1  14-06-2018  Saudi Arabia        Russia   \n",
      "2         2       2  15-06-2018         Egypt       Uruguay   \n",
      "3         3       3  15-06-2018       Uruguay         Egypt   \n",
      "4         4       4  15-06-2018       Morocco          Iran   \n",
      "\n",
      "   Ball Possession %  Off-Target  Blocked  Offsides  Saves  Pass Accuracy %  \\\n",
      "0                 40           3        3         3      0               78   \n",
      "1                 60           3        3         1      2               86   \n",
      "2                 43           3        2         1      3               78   \n",
      "3                 57           6        4         1      3               86   \n",
      "4                 64           6        4         0      2               86   \n",
      "\n",
      "   Passes  Distance Covered (Kms)  Yellow & Red  Man of the Match  1st Goal  \\\n",
      "0     306                     118             0                 1      12.0   \n",
      "1     511                     105             0                 0       NaN   \n",
      "2     395                     112             0                 0       NaN   \n",
      "3     589                     111             0                 1      89.0   \n",
      "4     433                     101             0                 0       NaN   \n",
      "\n",
      "         Round PSO  Goals in PSO  Own goals  \n",
      "0  Group Stage  No             0        NaN  \n",
      "1  Group Stage  No             0        NaN  \n",
      "2  Group Stage  No             0        NaN  \n",
      "3  Group Stage  No             0        NaN  \n",
      "4  Group Stage  No             0        1.0  \n"
     ]
    }
   ],
   "source": [
    "old_df = pd.read_csv(\"fifa.csv\")\n",
    "print(\"- READ THE SUPPLY DATASET -\\n\")\n",
    "print(old_df.head())"
   ]
  },
  {
   "cell_type": "code",
   "execution_count": 3,
   "metadata": {},
   "outputs": [
    {
     "name": "stdout",
     "output_type": "stream",
     "text": [
      "- SEARCH DATAMART BY A DESCRIPTION JSON OBJECT -\n",
      "\n",
      "Returned 1 Datasets\n",
      "SUMMARY OF THE DATAMART DATASET\n",
      "        Datamart ID: 127860000\n",
      "        Score: 85.56142\n",
      "        Title: FIFA World Cup\n",
      "        Description: FIFA World Cup\n",
      "        URL: https://www.football-data.org\n",
      "        Columns: \n",
      "            [0] id \n",
      "            [1] season_id \n",
      "            [2] season_startDate \n",
      "            [3] season_endDate \n",
      "            [4] season_currentMatchday \n",
      "            [5] utcDate \n",
      "            [6] status \n",
      "            [7] matchday \n",
      "            [8] stage \n",
      "            [9] group \n",
      "            [10] lastUpdated \n",
      "            [11] score_winner \n",
      "            [12] score_duration \n",
      "            [13] score_fullTime_homeTeam \n",
      "            [14] score_fullTime_awayTeam \n",
      "            [15] score_halfTime_homeTeam \n",
      "            [16] score_halfTime_awayTeam \n",
      "            [17] score_extraTime_homeTeam \n",
      "            [18] score_extraTime_awayTeam \n",
      "            [19] score_penalties_homeTeam \n",
      "            [20] score_penalties_awayTeam \n",
      "            [21] homeTeam_id \n",
      "            [22] homeTeam_name (Egypt, Uruguay, Colombia ...)\n",
      "            [23] awayTeam_id \n",
      "            [24] awayTeam_name (Uruguay, Egypt, Colombia ...)\n",
      "            [25] referees_0_id \n",
      "            [26] referees_0_name (Björn Kuipers, Enrique Cáceres, Malang Diédhiou ...)\n",
      "            [27] referees_0_nationality \n",
      "            [28] referees_1_id \n",
      "            [29] referees_1_name (Bahattin Duran, Joe Fletcher, Jure Praprotnik ...)\n",
      "            [30] referees_1_nationality \n",
      "            [31] referees_2_id \n",
      "            [32] referees_2_name (Marcelo Carvalho Van Gasse, Frank Anderson, Tarık Ongun ...)\n",
      "            [33] referees_2_nationality \n",
      "            [34] referees_3_id \n",
      "            [35] referees_3_name (Norbert Hauata, John Pitti, Björn Kuipers ...)\n",
      "            [36] referees_3_nationality \n",
      "            [37] referees_4_id \n",
      "            [38] referees_4_name (Hiroshi Yamauchi, Bahattin Duran, Massimiliano Irrati ...)\n",
      "            [39] referees_4_nationality \n",
      "            [40] referees_5_id \n",
      "            [41] referees_5_name (Artur Soares Dias, Mauro Vigliano, Clément Turpin ...)\n",
      "            [42] referees_5_nationality \n",
      "            [43] referees_6_id \n",
      "            [44] referees_6_name (Artur Soares Dias, Bastian Dankert, Carlos Astroza ...)\n",
      "            [45] referees_6_nationality \n",
      "            [46] referees_7_id \n",
      "            [47] referees_7_name (Artur Soares Dias, Bastian Dankert, Carlos Astroza ...)\n",
      "            [48] referees_7_nationality \n",
      "            [49] referees_8_id \n",
      "            [50] referees_8_name (Artur Soares Dias, Bastian Dankert, Sandro Ricci ...)\n",
      "            [51] referees_8_nationality \n",
      "        Recommend Join Columns: \n",
      "\t\t    Original Columns <-> datamart.Dataset Columns\n",
      "\t\t                 [3] <-> [24]                \n",
      "\t\t                 [4] <-> [22]                \n",
      "        \n"
     ]
    }
   ],
   "source": [
    "with open(\"fifa_query.json\") as f_json:\n",
    "    query_json = json.load(f_json)\n",
    "results = search(SEARCH_URL, query_json, old_df)\n",
    "print(\"- SEARCH DATAMART BY A DESCRIPTION JSON OBJECT -\\n\")\n",
    "print(\"Returned %d Datasets\" % len(results))\n",
    "for res in results:\n",
    "    print(res.summary)"
   ]
  },
  {
   "cell_type": "code",
   "execution_count": 4,
   "metadata": {},
   "outputs": [
    {
     "name": "stdout",
     "output_type": "stream",
     "text": [
      "- MATERIALIZE SEARCH RESULTS -\n",
      "\n",
      "       id  season_id season_startDate season_endDate  season_currentMatchday  \\\n",
      "0  200000          1       2018-06-14     2018-07-15                       3   \n",
      "1  200001          1       2018-06-14     2018-07-15                       3   \n",
      "2  200006          1       2018-06-14     2018-07-15                       3   \n",
      "3  200007          1       2018-06-14     2018-07-15                       3   \n",
      "4  200012          1       2018-06-14     2018-07-15                       3   \n",
      "\n",
      "                utcDate    status  matchday        stage    group  \\\n",
      "0  2018-06-14T15:00:00Z  FINISHED       1.0  GROUP_STAGE  Group A   \n",
      "1  2018-06-15T12:00:00Z  FINISHED       1.0  GROUP_STAGE  Group A   \n",
      "2  2018-06-15T15:00:00Z  FINISHED       1.0  GROUP_STAGE  Group B   \n",
      "3  2018-06-15T18:00:00Z  FINISHED       1.0  GROUP_STAGE  Group B   \n",
      "4  2018-06-16T10:00:00Z  FINISHED       1.0  GROUP_STAGE  Group C   \n",
      "\n",
      "            ...           referees_5_nationality referees_6_id  \\\n",
      "0           ...                             None         49527   \n",
      "1           ...                             None         43884   \n",
      "2           ...                             None         15746   \n",
      "3           ...                             None         11075   \n",
      "4           ...                             None         49487   \n",
      "\n",
      "   referees_6_name  referees_6_nationality  referees_7_id  referees_7_name  \\\n",
      "0   Mauro Vigliano                    None          49528   Carlos Astroza   \n",
      "1   Cyril Gringore                    None          43854        Paweł Gil   \n",
      "2  Bastian Dankert                    None          43876      Mark Borsch   \n",
      "3     Paolo Valeri                    None          49528   Carlos Astroza   \n",
      "4   Hernán Maidana                    None          15713    Tiago Martins   \n",
      "\n",
      "   referees_7_nationality  referees_8_id  referees_8_name  \\\n",
      "0                    None          11116   Daniele Orsato   \n",
      "1                    None           9374   Clément Turpin   \n",
      "2                    None          55667     Jair Marrufo   \n",
      "3                    None          11116   Daniele Orsato   \n",
      "4                    None          55667     Jair Marrufo   \n",
      "\n",
      "   referees_8_nationality  \n",
      "0                    None  \n",
      "1                    None  \n",
      "2                    None  \n",
      "3                    None  \n",
      "4                    None  \n",
      "\n",
      "[5 rows x 52 columns]\n"
     ]
    }
   ],
   "source": [
    "new_df = Utils.get_dataset(metadata=results[0].metadata)\n",
    "print(\"- MATERIALIZE SEARCH RESULTS -\\n\")\n",
    "print(new_df.head())"
   ]
  },
  {
   "cell_type": "code",
   "execution_count": 5,
   "metadata": {},
   "outputs": [
    {
     "name": "stdout",
     "output_type": "stream",
     "text": [
      "- AUGMENT BY THE SEARCHED RESULT -\n",
      "\n"
     ]
    },
    {
     "ename": "TypeError",
     "evalue": "list indices must be integers or slices, not str",
     "traceback": [
      "\u001b[0;31m---------------------------------------------------------------------------\u001b[0m",
      "\u001b[0;31mTypeError\u001b[0m                                 Traceback (most recent call last)",
      "\u001b[0;32m<ipython-input-5-220d7eda71ed>\u001b[0m in \u001b[0;36m<module>\u001b[0;34m\u001b[0m\n\u001b[1;32m      5\u001b[0m                  \u001b[0maugment_data\u001b[0m\u001b[0;34m=\u001b[0m\u001b[0mtarget_dataset\u001b[0m\u001b[0;34m,\u001b[0m\u001b[0;34m\u001b[0m\u001b[0m\n\u001b[1;32m      6\u001b[0m                  joining_columns=([ ['Team'],          ['Opponent']      ],\n\u001b[0;32m----> 7\u001b[0;31m                                   [ ['homeTeam_name'], ['awayTeam_name'] ]) \n\u001b[0m\u001b[1;32m      8\u001b[0m                 )\n\u001b[1;32m      9\u001b[0m \u001b[0mprint\u001b[0m\u001b[0;34m(\u001b[0m\u001b[0mresult\u001b[0m\u001b[0;34m.\u001b[0m\u001b[0mhead\u001b[0m\u001b[0;34m(\u001b[0m\u001b[0;34m)\u001b[0m\u001b[0;34m)\u001b[0m\u001b[0;34m\u001b[0m\u001b[0m\n",
      "\u001b[0;32m~/isi/repos/datamart/datamart/entries.py\u001b[0m in \u001b[0;36maugment\u001b[0;34m(original_data, augment_data, joining_columns)\u001b[0m\n\u001b[1;32m     89\u001b[0m             \u001b[0mleft_metadata\u001b[0m\u001b[0;34m=\u001b[0m\u001b[0;32mNone\u001b[0m\u001b[0;34m,\u001b[0m\u001b[0;34m\u001b[0m\u001b[0m\n\u001b[1;32m     90\u001b[0m             \u001b[0mright_metadata\u001b[0m\u001b[0;34m=\u001b[0m\u001b[0maugment_data\u001b[0m\u001b[0;34m.\u001b[0m\u001b[0mmetadata\u001b[0m\u001b[0;34m,\u001b[0m\u001b[0;34m\u001b[0m\u001b[0m\n\u001b[0;32m---> 91\u001b[0;31m             \u001b[0mjoiner\u001b[0m\u001b[0;34m=\u001b[0m\u001b[0mdefault_joiner\u001b[0m\u001b[0;34m\u001b[0m\u001b[0m\n\u001b[0m\u001b[1;32m     92\u001b[0m     )\n\u001b[1;32m     93\u001b[0m     \u001b[0;32mreturn\u001b[0m \u001b[0maugmented_data\u001b[0m\u001b[0;34m\u001b[0m\u001b[0m\n",
      "\u001b[0;32m~/isi/repos/datamart/datamart/augment.py\u001b[0m in \u001b[0;36mjoin\u001b[0;34m(self, left_df, right_df, left_columns, right_columns, left_metadata, right_metadata, joiner)\u001b[0m\n\u001b[1;32m    183\u001b[0m                                          \u001b[0mright_columns\u001b[0m\u001b[0;34m=\u001b[0m\u001b[0mright_columns\u001b[0m\u001b[0;34m,\u001b[0m\u001b[0;34m\u001b[0m\u001b[0m\n\u001b[1;32m    184\u001b[0m                                          \u001b[0mleft_metadata\u001b[0m\u001b[0;34m=\u001b[0m\u001b[0mleft_metadata\u001b[0m\u001b[0;34m,\u001b[0m\u001b[0;34m\u001b[0m\u001b[0m\n\u001b[0;32m--> 185\u001b[0;31m                                          \u001b[0mright_metadata\u001b[0m\u001b[0;34m=\u001b[0m\u001b[0mright_metadata\u001b[0m\u001b[0;34m,\u001b[0m\u001b[0;34m\u001b[0m\u001b[0m\n\u001b[0m\u001b[1;32m    186\u001b[0m                                          )\n",
      "\u001b[0;32m~/isi/repos/datamart/datamart/joiners/rltk_joiner.py\u001b[0m in \u001b[0;36mjoin\u001b[0;34m(self, left_df, right_df, left_columns, right_columns, left_metadata, right_metadata)\u001b[0m\n\u001b[1;32m     32\u001b[0m         \"\"\"\n\u001b[1;32m     33\u001b[0m \u001b[0;34m\u001b[0m\u001b[0m\n\u001b[0;32m---> 34\u001b[0;31m         \u001b[0mfp\u001b[0m \u001b[0;34m=\u001b[0m \u001b[0mFeaturePairs\u001b[0m\u001b[0;34m(\u001b[0m\u001b[0mleft_df\u001b[0m\u001b[0;34m,\u001b[0m \u001b[0mright_df\u001b[0m\u001b[0;34m,\u001b[0m \u001b[0mleft_columns\u001b[0m\u001b[0;34m,\u001b[0m \u001b[0mright_columns\u001b[0m\u001b[0;34m,\u001b[0m \u001b[0mleft_metadata\u001b[0m\u001b[0;34m,\u001b[0m \u001b[0mright_metadata\u001b[0m\u001b[0;34m)\u001b[0m\u001b[0;34m\u001b[0m\u001b[0m\n\u001b[0m\u001b[1;32m     35\u001b[0m \u001b[0;34m\u001b[0m\u001b[0m\n\u001b[1;32m     36\u001b[0m         \u001b[0mrecord_pairs\u001b[0m \u001b[0;34m=\u001b[0m \u001b[0mrltk\u001b[0m\u001b[0;34m.\u001b[0m\u001b[0mget_record_pairs\u001b[0m\u001b[0;34m(\u001b[0m\u001b[0mfp\u001b[0m\u001b[0;34m.\u001b[0m\u001b[0mleft_rltk_dataset\u001b[0m\u001b[0;34m,\u001b[0m \u001b[0mfp\u001b[0m\u001b[0;34m.\u001b[0m\u001b[0mright_rltk_dataset\u001b[0m\u001b[0;34m,\u001b[0m \u001b[0mblock\u001b[0m\u001b[0;34m=\u001b[0m\u001b[0mfp\u001b[0m\u001b[0;34m.\u001b[0m\u001b[0mget_rltk_block\u001b[0m\u001b[0;34m(\u001b[0m\u001b[0;34m)\u001b[0m\u001b[0;34m)\u001b[0m\u001b[0;34m\u001b[0m\u001b[0m\n",
      "\u001b[0;32m~/isi/repos/datamart/datamart/joiners/join_feature/feature_pairs.py\u001b[0m in \u001b[0;36m__init__\u001b[0;34m(self, left_df, right_df, left_columns, right_columns, left_metadata, right_metadata)\u001b[0m\n\u001b[1;32m     50\u001b[0m         \u001b[0mself\u001b[0m\u001b[0;34m.\u001b[0m\u001b[0m_right_rltk_dataset\u001b[0m \u001b[0;34m=\u001b[0m \u001b[0mself\u001b[0m\u001b[0;34m.\u001b[0m\u001b[0m_init_rltk_dataset\u001b[0m\u001b[0;34m(\u001b[0m\u001b[0mright_df\u001b[0m\u001b[0;34m,\u001b[0m \u001b[0mRightDynamicRecord\u001b[0m\u001b[0;34m)\u001b[0m\u001b[0;34m\u001b[0m\u001b[0m\n\u001b[1;32m     51\u001b[0m \u001b[0;34m\u001b[0m\u001b[0m\n\u001b[0;32m---> 52\u001b[0;31m         \u001b[0mself\u001b[0m\u001b[0;34m.\u001b[0m\u001b[0m_pairs\u001b[0m \u001b[0;34m=\u001b[0m \u001b[0mself\u001b[0m\u001b[0;34m.\u001b[0m\u001b[0m_init_pairs\u001b[0m\u001b[0;34m(\u001b[0m\u001b[0;34m)\u001b[0m\u001b[0;34m\u001b[0m\u001b[0m\n\u001b[0m\u001b[1;32m     53\u001b[0m \u001b[0;34m\u001b[0m\u001b[0m\n\u001b[1;32m     54\u001b[0m     \u001b[0;34m@\u001b[0m\u001b[0mproperty\u001b[0m\u001b[0;34m\u001b[0m\u001b[0m\n",
      "\u001b[0;32m~/isi/repos/datamart/datamart/joiners/join_feature/feature_pairs.py\u001b[0m in \u001b[0;36m_init_pairs\u001b[0;34m(self)\u001b[0m\n\u001b[1;32m     88\u001b[0m         return [(FeatureFactory.create(self._left_df, self._left_columns[i], self._left_metadata),\n\u001b[1;32m     89\u001b[0m                  FeatureFactory.create(self._right_df, self._right_columns[i], self._right_metadata))\n\u001b[0;32m---> 90\u001b[0;31m                 for i in range(self._length)]\n\u001b[0m\u001b[1;32m     91\u001b[0m \u001b[0;34m\u001b[0m\u001b[0m\n\u001b[1;32m     92\u001b[0m     \u001b[0;34m@\u001b[0m\u001b[0mstaticmethod\u001b[0m\u001b[0;34m\u001b[0m\u001b[0m\n",
      "\u001b[0;32m~/isi/repos/datamart/datamart/joiners/join_feature/feature_pairs.py\u001b[0m in \u001b[0;36m<listcomp>\u001b[0;34m(.0)\u001b[0m\n\u001b[1;32m     88\u001b[0m         return [(FeatureFactory.create(self._left_df, self._left_columns[i], self._left_metadata),\n\u001b[1;32m     89\u001b[0m                  FeatureFactory.create(self._right_df, self._right_columns[i], self._right_metadata))\n\u001b[0;32m---> 90\u001b[0;31m                 for i in range(self._length)]\n\u001b[0m\u001b[1;32m     91\u001b[0m \u001b[0;34m\u001b[0m\u001b[0m\n\u001b[1;32m     92\u001b[0m     \u001b[0;34m@\u001b[0m\u001b[0mstaticmethod\u001b[0m\u001b[0;34m\u001b[0m\u001b[0m\n",
      "\u001b[0;32m~/isi/repos/datamart/datamart/joiners/join_feature/feature_factory.py\u001b[0m in \u001b[0;36mcreate\u001b[0;34m(cls, df, indexes, df_metadata)\u001b[0m\n\u001b[1;32m     21\u001b[0m         \"\"\"\n\u001b[1;32m     22\u001b[0m         \u001b[0;31m# set default values:\u001b[0m\u001b[0;34m\u001b[0m\u001b[0;34m\u001b[0m\u001b[0m\n\u001b[0;32m---> 23\u001b[0;31m         \u001b[0mmetadata\u001b[0m \u001b[0;34m=\u001b[0m \u001b[0mcls\u001b[0m\u001b[0;34m.\u001b[0m\u001b[0m_get_feature_metadata\u001b[0m\u001b[0;34m(\u001b[0m\u001b[0mdf_metadata\u001b[0m\u001b[0;34m,\u001b[0m \u001b[0mindexes\u001b[0m\u001b[0;34m)\u001b[0m\u001b[0;34m\u001b[0m\u001b[0m\n\u001b[0m\u001b[1;32m     24\u001b[0m         \u001b[0mdata_type\u001b[0m \u001b[0;34m=\u001b[0m \u001b[0;32mNone\u001b[0m\u001b[0;34m\u001b[0m\u001b[0m\n\u001b[1;32m     25\u001b[0m         \u001b[0mdistribute_type\u001b[0m \u001b[0;34m=\u001b[0m \u001b[0mDistributeType\u001b[0m\u001b[0;34m.\u001b[0m\u001b[0mNON_CATEGORICAL\u001b[0m\u001b[0;34m\u001b[0m\u001b[0m\n",
      "\u001b[0;32m~/isi/repos/datamart/datamart/joiners/join_feature/feature_factory.py\u001b[0m in \u001b[0;36m_get_feature_metadata\u001b[0;34m(metadata, indices)\u001b[0m\n\u001b[1;32m     67\u001b[0m     \u001b[0;34m@\u001b[0m\u001b[0mstaticmethod\u001b[0m\u001b[0;34m\u001b[0m\u001b[0m\n\u001b[1;32m     68\u001b[0m     \u001b[0;32mdef\u001b[0m \u001b[0m_get_feature_metadata\u001b[0m\u001b[0;34m(\u001b[0m\u001b[0mmetadata\u001b[0m\u001b[0;34m,\u001b[0m \u001b[0mindices\u001b[0m\u001b[0;34m)\u001b[0m\u001b[0;34m:\u001b[0m\u001b[0;34m\u001b[0m\u001b[0m\n\u001b[0;32m---> 69\u001b[0;31m         \u001b[0;32mreturn\u001b[0m \u001b[0mmetadata\u001b[0m\u001b[0;34m[\u001b[0m\u001b[0;34m'variables'\u001b[0m\u001b[0;34m]\u001b[0m\u001b[0;34m[\u001b[0m\u001b[0mindices\u001b[0m\u001b[0;34m[\u001b[0m\u001b[0;36m0\u001b[0m\u001b[0;34m]\u001b[0m\u001b[0;34m]\u001b[0m\u001b[0;34m\u001b[0m\u001b[0m\n\u001b[0m\u001b[1;32m     70\u001b[0m \u001b[0;34m\u001b[0m\u001b[0m\n\u001b[1;32m     71\u001b[0m     \u001b[0;34m@\u001b[0m\u001b[0mstaticmethod\u001b[0m\u001b[0;34m\u001b[0m\u001b[0m\n",
      "\u001b[0;31mTypeError\u001b[0m: list indices must be integers or slices, not str"
     ],
     "output_type": "error"
    }
   ],
   "source": [
    "target_dataset = results[0]\n",
    "\n",
    "print(\"- AUGMENT BY THE SEARCHED RESULT -\\n\")\n",
    "result = augment(original_data=old_df, \n",
    "                 augment_data=target_dataset, \n",
    "                 joining_columns=([ ['Team'],          ['Opponent']      ],\n",
    "                                  [ ['homeTeam_name'], ['awayTeam_name'] ]) \n",
    "                )\n",
    "print(result.head())"
   ]
  },
  {
   "cell_type": "code",
   "execution_count": null,
   "metadata": {},
   "outputs": [],
   "source": []
  }
 ],
 "metadata": {
  "kernelspec": {
   "display_name": "Python 3",
   "language": "python",
   "name": "python3"
  },
  "language_info": {
   "codemirror_mode": {
    "name": "ipython",
    "version": 3
   },
   "file_extension": ".py",
   "mimetype": "text/x-python",
   "name": "python",
   "nbconvert_exporter": "python",
   "pygments_lexer": "ipython3",
   "version": "3.6.6"
  }
 },
 "nbformat": 4,
 "nbformat_minor": 1
}
