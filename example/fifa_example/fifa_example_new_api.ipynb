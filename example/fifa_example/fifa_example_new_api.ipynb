{
 "cells": [
  {
   "cell_type": "code",
   "execution_count": 1,
   "metadata": {},
   "outputs": [],
   "source": [
    "from datamart import search, augment\n",
    "from datamart.utilities.utils import Utils\n",
    "import pandas as pd\n",
    "import json"
   ]
  },
  {
   "cell_type": "code",
   "execution_count": 2,
   "metadata": {},
   "outputs": [
    {
     "name": "stdout",
     "output_type": "stream",
     "text": [
      "- READ THE SUPPLY DATASET -\n\n   d3mIndex  GameID        Date          Team      Opponent  \\\n0         0       0  14-06-2018        Russia  Saudi Arabia   \n1         1       1  14-06-2018  Saudi Arabia        Russia   \n2         2       2  15-06-2018         Egypt       Uruguay   \n3         3       3  15-06-2018       Uruguay         Egypt   \n4         4       4  15-06-2018       Morocco          Iran   \n5         5       5  15-06-2018          Iran       Morocco   \n6         6       6  15-06-2018      Portugal         Spain   \n7         7       7  15-06-2018         Spain      Portugal   \n8         8       8  16-06-2018        France     Australia   \n9         9       9  16-06-2018     Australia        France   \n\n   Ball Possession %  Off-Target  Blocked  Offsides  Saves  Pass Accuracy %  \\\n0                 40           3        3         3      0               78   \n1                 60           3        3         1      2               86   \n2                 43           3        2         1      3               78   \n3                 57           6        4         1      3               86   \n4                 64           6        4         0      2               86   \n5                 36           5        1         0      2               86   \n6                 39           2        3         1      2               87   \n7                 61           5        2         3      0               93   \n8                 51           4        3         0      1               87   \n9                 49           2        1         0      4               85   \n\n   Passes  Distance Covered (Kms)  Yellow & Red  Man of the Match  1st Goal  \\\n0     306                     118             0                 1      12.0   \n1     511                     105             0                 0       NaN   \n2     395                     112             0                 0       NaN   \n3     589                     111             0                 1      89.0   \n4     433                     101             0                 0       NaN   \n5     194                     100             0                 1      90.0   \n6     366                     102             0                 0       4.0   \n7     727                     103             0                 1      24.0   \n8     484                     103             0                 1      58.0   \n9     390                     111             0                 0      62.0   \n\n         Round PSO  Goals in PSO  Own goals  \n0  Group Stage  No             0        NaN  \n1  Group Stage  No             0        NaN  \n2  Group Stage  No             0        NaN  \n3  Group Stage  No             0        NaN  \n4  Group Stage  No             0        1.0  \n5  Group Stage  No             0        NaN  \n6  Group Stage  No             0        NaN  \n7  Group Stage  No             0        NaN  \n8  Group Stage  No             0        NaN  \n9  Group Stage  No             0        1.0  \n"
     ]
    }
   ],
   "source": [
    "old_df = pd.read_csv(\"./example/fifa_example/fifa.csv\")\n",
    "print(\"- READ THE SUPPLY DATASET -\\n\")\n",
    "print(old_df.iloc[:10, :])"
   ]
  },
  {
   "cell_type": "code",
   "execution_count": 3,
   "metadata": {},
   "outputs": [
    {
     "name": "stdout",
     "output_type": "stream",
     "text": [
      "- SEARCH DATAMART BY A DESCRIPTION JSON OBJECT -\n\nReturned 1 Datasets\n127860000\n\t{\n\t  \"datamart_id\": 127860000,\n\t  \"title\": \"FIFA World Cup\",\n\t  \"description\": \"FIFA World Cup\",\n\t  \"url\": \"https://www.football-data.org\",\n\t  \"keywords\": [\n\t    \"football\",\n\t    \"competition\"\n\t  ],\n\t  \"provenance\": {\n\t    \"source\": \"www.football-data.org\"\n\t  },\n\t  \"materialization\": {\n\t    \"python_path\": \"football_match_materializer\",\n\t    \"arguments\": {\n\t      \"uri\": \"/v2/competitions/2000/matches?limit=999\",\n\t      \"token\": \"d019bc4541c9490fabcba6806cbcc42b\"\n\t    }\n\t  },\n\t  \"variables\": [\n\t    {\n\t      \"datamart_id\": 127860001,\n\t      \"name\": \"id\",\n\t      \"semantic_type\": [\n\t        \"http://schema.org/Integer\"\n\t      ],\n\t      \"description\": \"column name: id, dtype: int64\"\n\t    },\n\t    {\n\t      \"datamart_id\": 127860002,\n\t      \"name\": \"season_id\",\n\t      \"semantic_type\": [\n\t        \"http://schema.org/Integer\"\n\t      ],\n\t      \"description\": \"column name: season_id, dtype: int64\"\n\t    },\n\t    {\n\t      \"datamart_id\": 127860003,\n\t      \"name\": \"season_startDate\",\n\t      \"semantic_type\": [\n\t        \"https://metadata.datadrivendiscovery.org/types/Time\"\n\t      ],\n\t      \"description\": \"column name: season_startDate, dtype: object\"\n\t    },\n\t    {\n\t      \"datamart_id\": 127860004,\n\t      \"name\": \"season_endDate\",\n\t      \"semantic_type\": [\n\t        \"https://metadata.datadrivendiscovery.org/types/Time\"\n\t      ],\n\t... ...\n"
     ]
    }
   ],
   "source": [
    "query_json = {\n",
    "    \"dataset\": {\n",
    "        \"about\": \"Man of Match, Soccer game, FIFA, best player, team, MVP, Goal, opponent\",\n",
    "        \"description\": [\"FIFA\", \"worldcup\", \"Soccer game\", \"European Cup\"]\n",
    "    },\n",
    "    \"required_variables\": [\n",
    "        {\n",
    "            \"type\": \"dataframe_columns\",\n",
    "            \"name\": [\n",
    "              \"Team\"\n",
    "            ]\n",
    "        },\n",
    "        {\n",
    "            \"type\": \"dataframe_columns\",\n",
    "            \"name\": [\n",
    "              \"Opponent\"\n",
    "            ]\n",
    "        }\n",
    "    ],\n",
    "    \"desired_variables\": [\n",
    "        {\n",
    "            \"type\": \"generic_entity\",\n",
    "            \"about\": \"score_winner\",\n",
    "            \"variable_syntactic_type\": [\n",
    "                \"http://schema.org/Text\"\n",
    "            ]\n",
    "        }\n",
    "    ]\n",
    "}\n",
    "results = search(query_json, old_df)\n",
    "print(\"- SEARCH DATAMART BY A DESCRIPTION JSON OBJECT -\\n\")\n",
    "print(\"Returned %d Datasets\" % len(results))\n",
    "for res in results:\n",
    "    print(res.id)\n",
    "    print('\\t' + '\\n\\t'.join(json.dumps(res.metadata, indent=2).split('\\n', 50)[:50]))\n",
    "    print('\\t... ...')"
   ]
  },
  {
   "cell_type": "code",
   "execution_count": 4,
   "metadata": {},
   "outputs": [
    {
     "name": "stdout",
     "output_type": "stream",
     "text": [
      "- MATERIALIZE SEARCH RESULTS -\n\n       id  season_id season_startDate season_endDate  season_currentMatchday  \\\n0  200000          1       2018-06-14     2018-07-15                       3   \n1  200001          1       2018-06-14     2018-07-15                       3   \n2  200006          1       2018-06-14     2018-07-15                       3   \n3  200007          1       2018-06-14     2018-07-15                       3   \n4  200012          1       2018-06-14     2018-07-15                       3   \n5  200018          1       2018-06-14     2018-07-15                       3   \n6  200013          1       2018-06-14     2018-07-15                       3   \n7  200019          1       2018-06-14     2018-07-15                       3   \n8  200024          1       2018-06-14     2018-07-15                       3   \n9  200030          1       2018-06-14     2018-07-15                       3   \n\n                utcDate    status  matchday        stage    group  \\\n0  2018-06-14T15:00:00Z  FINISHED       1.0  GROUP_STAGE  Group A   \n1  2018-06-15T12:00:00Z  FINISHED       1.0  GROUP_STAGE  Group A   \n2  2018-06-15T15:00:00Z  FINISHED       1.0  GROUP_STAGE  Group B   \n3  2018-06-15T18:00:00Z  FINISHED       1.0  GROUP_STAGE  Group B   \n4  2018-06-16T10:00:00Z  FINISHED       1.0  GROUP_STAGE  Group C   \n5  2018-06-16T13:00:00Z  FINISHED       1.0  GROUP_STAGE  Group D   \n6  2018-06-16T16:00:00Z  FINISHED       1.0  GROUP_STAGE  Group C   \n7  2018-06-16T19:00:00Z  FINISHED       1.0  GROUP_STAGE  Group D   \n8  2018-06-17T12:00:00Z  FINISHED       1.0  GROUP_STAGE  Group E   \n9  2018-06-17T15:00:00Z  FINISHED       1.0  GROUP_STAGE  Group F   \n\n            ...           referees_5_nationality referees_6_id  \\\n0           ...                             None         49527   \n1           ...                             None         43884   \n2           ...                             None         15746   \n3           ...                             None         11075   \n4           ...                             None         49487   \n5           ...                             None         55725   \n6           ...                             None         15746   \n7           ...                             None         11412   \n8           ...                             None         43854   \n9           ...                             None         11412   \n\n          referees_6_name  referees_6_nationality  referees_7_id  \\\n0          Mauro Vigliano                    None          49528   \n1          Cyril Gringore                    None          43854   \n2         Bastian Dankert                    None          43876   \n3            Paolo Valeri                    None          49528   \n4          Hernán Maidana                    None          15713   \n5            Joe Fletcher                    None          43854   \n6         Bastian Dankert                    None          43876   \n7  Wilton Pereira Sampaio                    None          49487   \n8               Paweł Gil                    None          43884   \n9  Wilton Pereira Sampaio                    None          49528   \n\n   referees_7_name  referees_7_nationality  referees_8_id    referees_8_name  \\\n0   Carlos Astroza                    None          11116     Daniele Orsato   \n1        Paweł Gil                    None           9374     Clément Turpin   \n2      Mark Borsch                    None          55667       Jair Marrufo   \n3   Carlos Astroza                    None          11116     Daniele Orsato   \n4    Tiago Martins                    None          55667       Jair Marrufo   \n5        Paweł Gil                    None          18127        Gery Vargas   \n6      Mark Borsch                    None          43899     Danny Makkelie   \n7   Hernán Maidana                    None          43540  Artur Soares Dias   \n8   Cyril Gringore                    None          43540  Artur Soares Dias   \n9   Carlos Astroza                    None          55724        Mark Geiger   \n\n   referees_8_nationality  \n0                    None  \n1                    None  \n2                    None  \n3                    None  \n4                    None  \n5                    None  \n6                    None  \n7                    None  \n8                    None  \n9                    None  \n\n[10 rows x 52 columns]\n"
     ]
    }
   ],
   "source": [
    "new_df = Utils.get_dataset(metadata=results[0].metadata)\n",
    "print(\"- MATERIALIZE SEARCH RESULTS -\\n\")\n",
    "print(new_df.iloc[:10, :])"
   ]
  },
  {
   "cell_type": "code",
   "execution_count": 5,
   "metadata": {},
   "outputs": [
    {
     "name": "stdout",
     "output_type": "stream",
     "text": [
      "- AUGMENT BY THE SEARCHED RESULT -\n\n"
     ]
    },
    {
     "name": "stdout",
     "output_type": "stream",
     "text": [
      "   d3mIndex  GameID        Date          Team      Opponent  \\\n0         0       0  14-06-2018        Russia  Saudi Arabia   \n1         1       1  14-06-2018  Saudi Arabia        Russia   \n2         2       2  15-06-2018         Egypt       Uruguay   \n3         3       3  15-06-2018       Uruguay         Egypt   \n4         4       4  15-06-2018       Morocco          Iran   \n5         5       5  15-06-2018          Iran       Morocco   \n6         6       6  15-06-2018      Portugal         Spain   \n7         7       7  15-06-2018         Spain      Portugal   \n8         8       8  16-06-2018        France     Australia   \n9         9       9  16-06-2018     Australia        France   \n\n   Ball Possession %  Off-Target  Blocked  Offsides  Saves  \\\n0                 40           3        3         3      0   \n1                 60           3        3         1      2   \n2                 43           3        2         1      3   \n3                 57           6        4         1      3   \n4                 64           6        4         0      2   \n5                 36           5        1         0      2   \n6                 39           2        3         1      2   \n7                 61           5        2         3      0   \n8                 51           4        3         0      1   \n9                 49           2        1         0      4   \n\n            ...            referees_5_nationality  referees_6_id  \\\n0           ...                              None          49527   \n1           ...                              None          43878   \n2           ...                              None          43884   \n3           ...                              None          49527   \n4           ...                              None          15746   \n5           ...                              None          15746   \n6           ...                              None          11075   \n7           ...                              None          43878   \n8           ...                              None          49487   \n9           ...                              None          49527   \n\n   referees_6_name  referees_6_nationality  referees_7_id  referees_7_name  \\\n0   Mauro Vigliano                    None          49528   Carlos Astroza   \n1     Felix Zwayer                    None          43883    Nicolas Danos   \n2   Cyril Gringore                    None          43854        Paweł Gil   \n3   Mauro Vigliano                    None          11075     Paolo Valeri   \n4  Bastian Dankert                    None          43876      Mark Borsch   \n5  Bastian Dankert                    None          43876      Mark Borsch   \n6     Paolo Valeri                    None          49528   Carlos Astroza   \n7     Felix Zwayer                    None          43883    Nicolas Danos   \n8   Hernán Maidana                    None          15713    Tiago Martins   \n9   Mauro Vigliano                    None          11075     Paolo Valeri   \n\n  referees_7_nationality referees_8_id  referees_8_name  \\\n0                   None         11116   Daniele Orsato   \n1                   None         43854        Paweł Gil   \n2                   None          9374   Clément Turpin   \n3                   None         55971   Reza Sokhandan   \n4                   None         55667     Jair Marrufo   \n5                   None         43899   Danny Makkelie   \n6                   None         11116   Daniele Orsato   \n7                   None         43854        Paweł Gil   \n8                   None         55667     Jair Marrufo   \n9                   None         55971   Reza Sokhandan   \n\n   referees_8_nationality  \n0                    None  \n1                    None  \n2                    None  \n3                    None  \n4                    None  \n5                    None  \n6                    None  \n7                    None  \n8                    None  \n9                    None  \n\n[10 rows x 70 columns]\n"
     ]
    }
   ],
   "source": [
    "target_dataset = results[0]\n",
    "teams_col = [[old_df.columns.tolist().index(x)] for x in [\"Team\", \"Opponent\"]]\n",
    "new_teams_col = [[new_df.columns.tolist().index(x)] for x in [\"homeTeam_name\", \"awayTeam_name\"]]\n",
    "target_dataset.set_match(teams_col, new_teams_col)\n",
    "\n",
    "print(\"- AUGMENT BY THE SEARCHED RESULT -\\n\")\n",
    "result = augment(old_df, target_dataset)\n",
    "print(result.iloc[:10, :])"
   ]
  },
  {
   "cell_type": "code",
   "execution_count": null,
   "metadata": {},
   "outputs": [],
   "source": []
  }
 ],
 "metadata": {},
 "nbformat": 4,
 "nbformat_minor": 0
}
