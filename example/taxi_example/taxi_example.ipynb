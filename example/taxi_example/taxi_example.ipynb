{
 "cells": [
  {
   "cell_type": "code",
   "execution_count": 1,
   "metadata": {
    "collapsed": true
   },
   "outputs": [],
   "source": [
    "import sys, os, json\n",
    "sys.path.append(os.path.join(os.getcwd(), '..'))\n",
    "from datamart.augment import Augment\n",
    "from datamart.utilities.utils import Utils\n",
    "import pandas as pd"
   ]
  },
  {
   "cell_type": "code",
   "execution_count": 2,
   "metadata": {},
   "outputs": [],
   "source": [
    "es_index = \"datamart_all\"\n",
    "\n",
    "augment = Augment(es_index=es_index)"
   ]
  },
  {
   "cell_type": "markdown",
   "metadata": {},
   "source": [
    "### Read a sub set about taxi dataset"
   ]
  },
  {
   "cell_type": "code",
   "execution_count": 3,
   "metadata": {
    "collapsed": false
   },
   "outputs": [
    {
     "name": "stdout",
     "output_type": "stream",
     "text": [
      "    d3mIndex tpep_pickup_datetime  num_pickups\n0          0  2018-01-01 00:00:00           67\n1          1  2018-01-01 01:00:00            8\n2          2  2018-01-01 02:00:00            0\n3          3  2018-01-01 03:00:00            0\n4          4  2018-01-01 04:00:00            7\n5          5  2018-01-01 05:00:00           10\n6          6  2018-01-01 06:00:00            9\n7          7  2018-01-01 07:00:00           28\n8          8  2018-01-01 08:00:00          157\n9          9  2018-01-01 09:00:00          259\n10        10  2018-01-01 10:00:00          301\n11        11  2018-01-01 11:00:00          436\n12        12  2018-01-01 12:00:00          369\n13        13  2018-01-01 13:00:00          347\n14        14  2018-01-01 14:00:00          494\n15        15  2018-01-01 15:00:00          544\n16        16  2018-01-01 16:00:00          467\n17        17  2018-01-01 17:00:00          690\n18        18  2018-01-01 18:00:00          461\n19        19  2018-01-01 19:00:00          465\n20        20  2018-01-01 20:00:00          451\n21        21  2018-01-01 21:00:00          556\n22        22  2018-01-01 22:00:00          570\n23        23  2018-01-01 23:00:00          499\n24        24  2018-01-02 00:00:00          399\n25        25  2018-01-02 01:00:00           13\n26        26  2018-01-02 02:00:00           17\n27        27  2018-01-02 03:00:00            1\n28        28  2018-01-02 04:00:00            1\n29        29  2018-01-02 05:00:00            8\n30        30  2018-01-02 06:00:00           18\n31        31  2018-01-02 07:00:00          203\n32        32  2018-01-02 08:00:00          359\n33        33  2018-01-02 09:00:00          641\n34        34  2018-01-02 10:00:00          447\n35        35  2018-01-02 11:00:00          598\n36        36  2018-01-02 12:00:00          425\n37        37  2018-01-02 13:00:00          475\n38        38  2018-01-02 14:00:00          572\n39        39  2018-01-02 15:00:00          432\n40        40  2018-01-02 16:00:00          526\n41        41  2018-01-02 17:00:00          577\n42        42  2018-01-02 18:00:00          573\n43        43  2018-01-02 19:00:00          537\n44        44  2018-01-02 20:00:00          464\n45        45  2018-01-02 21:00:00          549\n46        46  2018-01-02 22:00:00          491\n47        47  2018-01-02 23:00:00          394\n"
     ]
    }
   ],
   "source": [
    "old_df = pd.read_csv(\"./example/taxi_example/taxi.csv\")\n",
    "print(old_df)"
   ]
  },
  {
   "cell_type": "markdown",
   "metadata": {},
   "source": [
    "### Query\n",
    "### Is there any dataset in Datamart has named_entity new york and is related to wind?\n",
    "### Besides, it covers the date from 2018-01-01 to 2018-01-03"
   ]
  },
  {
   "cell_type": "code",
   "execution_count": 4,
   "metadata": {},
   "outputs": [
    {
     "name": "stdout",
     "output_type": "stream",
     "text": [
      "9\n"
     ]
    }
   ],
   "source": [
    "metadatas = augment.query(\n",
    "    key_value_pairs=[\n",
    "        (\"variables.named_entity\", \"new york\"),\n",
    "        (\"description\", \"wind\"),\n",
    "    ],\n",
    "    temporal_coverage_start=\"2018-01-01\",\n",
    "    temporal_coverage_end=\"2018-01-03\"\n",
    ")\n",
    "\n",
    "print(len(metadatas))\n"
   ]
  },
  {
   "cell_type": "code",
   "execution_count": 5,
   "metadata": {
    "collapsed": false
   },
   "outputs": [
    {
     "name": "stdout",
     "output_type": "stream",
     "text": [
      "[125530000, 124480000, 125480000, 125450000, 125150000, 124530000, 124620000, 124600000, 125030000]\n"
     ]
    }
   ],
   "source": [
    "print([x[\"_source\"][\"datamart_id\"] for x in metadatas])"
   ]
  },
  {
   "cell_type": "markdown",
   "metadata": {},
   "source": [
    "### Materialize them with their metadata. Constrain should come from UI, will have UI for user to form such constrain."
   ]
  },
  {
   "cell_type": "code",
   "execution_count": 6,
   "metadata": {},
   "outputs": [
    {
     "name": "stdout",
     "output_type": "stream",
     "text": [
      "========24-hour wind movement (km)========\nEmpty DataFrame\nColumns: [date, stationid, city, WDMV]\nIndex: []\n\n\n\n"
     ]
    },
    {
     "name": "stdout",
     "output_type": "stream",
     "text": [
      "========Peak gust wind speed (tenths of meters per second)========\nEmpty DataFrame\nColumns: [date, stationid, city, WSFG]\nIndex: []\n\n\n\n"
     ]
    },
    {
     "name": "stdout",
     "output_type": "stream",
     "text": [
      "========Direction of fastest 2-minute wind (degrees)========\n                  date          stationid      city  WDF2\n0  2018-01-01T00:00:00  GHCND:USW00014732  new york   320\n1  2018-01-02T00:00:00  GHCND:USW00014732  new york   270\n\n - try to join with the queried one:\n"
     ]
    },
    {
     "name": "stdout",
     "output_type": "stream",
     "text": [
      "    d3mIndex tpep_pickup_datetime  num_pickups          stationid      city  \\\n0          0  2018-01-01 00:00:00           67  GHCND:USW00014732  new york   \n1          1  2018-01-01 01:00:00            8  GHCND:USW00014732  new york   \n2          2  2018-01-01 02:00:00            0  GHCND:USW00014732  new york   \n3          3  2018-01-01 03:00:00            0  GHCND:USW00014732  new york   \n4          4  2018-01-01 04:00:00            7  GHCND:USW00014732  new york   \n5          5  2018-01-01 05:00:00           10  GHCND:USW00014732  new york   \n6          6  2018-01-01 06:00:00            9  GHCND:USW00014732  new york   \n7          7  2018-01-01 07:00:00           28  GHCND:USW00014732  new york   \n8          8  2018-01-01 08:00:00          157  GHCND:USW00014732  new york   \n9          9  2018-01-01 09:00:00          259  GHCND:USW00014732  new york   \n10        10  2018-01-01 10:00:00          301  GHCND:USW00014732  new york   \n11        11  2018-01-01 11:00:00          436  GHCND:USW00014732  new york   \n12        12  2018-01-01 12:00:00          369  GHCND:USW00014732  new york   \n13        13  2018-01-01 13:00:00          347  GHCND:USW00014732  new york   \n14        14  2018-01-01 14:00:00          494  GHCND:USW00014732  new york   \n15        15  2018-01-01 15:00:00          544  GHCND:USW00014732  new york   \n16        16  2018-01-01 16:00:00          467  GHCND:USW00014732  new york   \n17        17  2018-01-01 17:00:00          690  GHCND:USW00014732  new york   \n18        18  2018-01-01 18:00:00          461  GHCND:USW00014732  new york   \n19        19  2018-01-01 19:00:00          465  GHCND:USW00014732  new york   \n20        20  2018-01-01 20:00:00          451  GHCND:USW00014732  new york   \n21        21  2018-01-01 21:00:00          556  GHCND:USW00014732  new york   \n22        22  2018-01-01 22:00:00          570  GHCND:USW00014732  new york   \n23        23  2018-01-01 23:00:00          499  GHCND:USW00014732  new york   \n24        24  2018-01-02 00:00:00          399  GHCND:USW00014732  new york   \n25        25  2018-01-02 01:00:00           13  GHCND:USW00014732  new york   \n26        26  2018-01-02 02:00:00           17  GHCND:USW00014732  new york   \n27        27  2018-01-02 03:00:00            1  GHCND:USW00014732  new york   \n28        28  2018-01-02 04:00:00            1  GHCND:USW00014732  new york   \n29        29  2018-01-02 05:00:00            8  GHCND:USW00014732  new york   \n30        30  2018-01-02 06:00:00           18  GHCND:USW00014732  new york   \n31        31  2018-01-02 07:00:00          203  GHCND:USW00014732  new york   \n32        32  2018-01-02 08:00:00          359  GHCND:USW00014732  new york   \n33        33  2018-01-02 09:00:00          641  GHCND:USW00014732  new york   \n34        34  2018-01-02 10:00:00          447  GHCND:USW00014732  new york   \n35        35  2018-01-02 11:00:00          598  GHCND:USW00014732  new york   \n36        36  2018-01-02 12:00:00          425  GHCND:USW00014732  new york   \n37        37  2018-01-02 13:00:00          475  GHCND:USW00014732  new york   \n38        38  2018-01-02 14:00:00          572  GHCND:USW00014732  new york   \n39        39  2018-01-02 15:00:00          432  GHCND:USW00014732  new york   \n40        40  2018-01-02 16:00:00          526  GHCND:USW00014732  new york   \n41        41  2018-01-02 17:00:00          577  GHCND:USW00014732  new york   \n42        42  2018-01-02 18:00:00          573  GHCND:USW00014732  new york   \n43        43  2018-01-02 19:00:00          537  GHCND:USW00014732  new york   \n44        44  2018-01-02 20:00:00          464  GHCND:USW00014732  new york   \n45        45  2018-01-02 21:00:00          549  GHCND:USW00014732  new york   \n46        46  2018-01-02 22:00:00          491  GHCND:USW00014732  new york   \n47        47  2018-01-02 23:00:00          394  GHCND:USW00014732  new york   \n\n    WDF2  \n0    320  \n1    320  \n2    320  \n3    320  \n4    320  \n5    320  \n6    320  \n7    320  \n8    320  \n9    320  \n10   320  \n11   320  \n12   270  \n13   270  \n14   270  \n15   270  \n16   270  \n17   270  \n18   270  \n19   270  \n20   270  \n21   270  \n22   270  \n23   270  \n24   270  \n25   270  \n26   270  \n27   270  \n28   270  \n29   270  \n30   270  \n31   270  \n32   270  \n33   270  \n34   270  \n35   270  \n36   270  \n37   270  \n38   270  \n39   270  \n40   270  \n41   270  \n42   270  \n43   270  \n44   270  \n45   270  \n46   270  \n47   270  \n\n\n\n"
     ]
    },
    {
     "name": "stdout",
     "output_type": "stream",
     "text": [
      "========Fastest 2-minute wind speed (tenths of meters per second)========\n                  date          stationid      city  WSF2\n0  2018-01-01T00:00:00  GHCND:USW00014732  new york   112\n1  2018-01-02T00:00:00  GHCND:USW00014732  new york    98\n\n - try to join with the queried one:\n    d3mIndex tpep_pickup_datetime  num_pickups          stationid      city  \\\n0          0  2018-01-01 00:00:00           67  GHCND:USW00014732  new york   \n1          1  2018-01-01 01:00:00            8  GHCND:USW00014732  new york   \n2          2  2018-01-01 02:00:00            0  GHCND:USW00014732  new york   \n3          3  2018-01-01 03:00:00            0  GHCND:USW00014732  new york   \n4          4  2018-01-01 04:00:00            7  GHCND:USW00014732  new york   \n5          5  2018-01-01 05:00:00           10  GHCND:USW00014732  new york   \n6          6  2018-01-01 06:00:00            9  GHCND:USW00014732  new york   \n7          7  2018-01-01 07:00:00           28  GHCND:USW00014732  new york   \n8          8  2018-01-01 08:00:00          157  GHCND:USW00014732  new york   \n9          9  2018-01-01 09:00:00          259  GHCND:USW00014732  new york   \n10        10  2018-01-01 10:00:00          301  GHCND:USW00014732  new york   \n11        11  2018-01-01 11:00:00          436  GHCND:USW00014732  new york   \n12        12  2018-01-01 12:00:00          369  GHCND:USW00014732  new york   \n13        13  2018-01-01 13:00:00          347  GHCND:USW00014732  new york   \n14        14  2018-01-01 14:00:00          494  GHCND:USW00014732  new york   \n15        15  2018-01-01 15:00:00          544  GHCND:USW00014732  new york   \n16        16  2018-01-01 16:00:00          467  GHCND:USW00014732  new york   \n17        17  2018-01-01 17:00:00          690  GHCND:USW00014732  new york   \n18        18  2018-01-01 18:00:00          461  GHCND:USW00014732  new york   \n19        19  2018-01-01 19:00:00          465  GHCND:USW00014732  new york   \n20        20  2018-01-01 20:00:00          451  GHCND:USW00014732  new york   \n21        21  2018-01-01 21:00:00          556  GHCND:USW00014732  new york   \n22        22  2018-01-01 22:00:00          570  GHCND:USW00014732  new york   \n23        23  2018-01-01 23:00:00          499  GHCND:USW00014732  new york   \n24        24  2018-01-02 00:00:00          399  GHCND:USW00014732  new york   \n25        25  2018-01-02 01:00:00           13  GHCND:USW00014732  new york   \n26        26  2018-01-02 02:00:00           17  GHCND:USW00014732  new york   \n27        27  2018-01-02 03:00:00            1  GHCND:USW00014732  new york   \n28        28  2018-01-02 04:00:00            1  GHCND:USW00014732  new york   \n29        29  2018-01-02 05:00:00            8  GHCND:USW00014732  new york   \n30        30  2018-01-02 06:00:00           18  GHCND:USW00014732  new york   \n31        31  2018-01-02 07:00:00          203  GHCND:USW00014732  new york   \n32        32  2018-01-02 08:00:00          359  GHCND:USW00014732  new york   \n33        33  2018-01-02 09:00:00          641  GHCND:USW00014732  new york   \n34        34  2018-01-02 10:00:00          447  GHCND:USW00014732  new york   \n35        35  2018-01-02 11:00:00          598  GHCND:USW00014732  new york   \n36        36  2018-01-02 12:00:00          425  GHCND:USW00014732  new york   \n37        37  2018-01-02 13:00:00          475  GHCND:USW00014732  new york   \n38        38  2018-01-02 14:00:00          572  GHCND:USW00014732  new york   \n39        39  2018-01-02 15:00:00          432  GHCND:USW00014732  new york   \n40        40  2018-01-02 16:00:00          526  GHCND:USW00014732  new york   \n41        41  2018-01-02 17:00:00          577  GHCND:USW00014732  new york   \n42        42  2018-01-02 18:00:00          573  GHCND:USW00014732  new york   \n43        43  2018-01-02 19:00:00          537  GHCND:USW00014732  new york   \n44        44  2018-01-02 20:00:00          464  GHCND:USW00014732  new york   \n45        45  2018-01-02 21:00:00          549  GHCND:USW00014732  new york   \n46        46  2018-01-02 22:00:00          491  GHCND:USW00014732  new york   \n47        47  2018-01-02 23:00:00          394  GHCND:USW00014732  new york   \n\n    WSF2  \n0    112  \n1    112  \n2    112  \n3    112  \n4    112  \n5    112  \n6    112  \n7    112  \n8    112  \n9    112  \n10   112  \n11   112  \n12    98  \n13    98  \n14    98  \n15    98  \n16    98  \n17    98  \n18    98  \n19    98  \n20    98  \n21    98  \n22    98  \n23    98  \n24    98  \n25    98  \n26    98  \n27    98  \n28    98  \n29    98  \n30    98  \n31    98  \n32    98  \n33    98  \n34    98  \n35    98  \n36    98  \n37    98  \n38    98  \n39    98  \n40    98  \n41    98  \n42    98  \n43    98  \n44    98  \n45    98  \n46    98  \n47    98  \n\n\n\n"
     ]
    },
    {
     "name": "stdout",
     "output_type": "stream",
     "text": [
      "========Average daily wind speed (tenths of meters per second)========\n                  date          stationid      city  AWND\n0  2018-01-01T00:00:00  GHCND:USW00014732  new york    76\n1  2018-01-02T00:00:00  GHCND:USW00014732  new york    62\n\n - try to join with the queried one:\n    d3mIndex tpep_pickup_datetime  num_pickups          stationid      city  \\\n0          0  2018-01-01 00:00:00           67  GHCND:USW00014732  new york   \n1          1  2018-01-01 01:00:00            8  GHCND:USW00014732  new york   \n2          2  2018-01-01 02:00:00            0  GHCND:USW00014732  new york   \n3          3  2018-01-01 03:00:00            0  GHCND:USW00014732  new york   \n4          4  2018-01-01 04:00:00            7  GHCND:USW00014732  new york   \n5          5  2018-01-01 05:00:00           10  GHCND:USW00014732  new york   \n6          6  2018-01-01 06:00:00            9  GHCND:USW00014732  new york   \n7          7  2018-01-01 07:00:00           28  GHCND:USW00014732  new york   \n8          8  2018-01-01 08:00:00          157  GHCND:USW00014732  new york   \n9          9  2018-01-01 09:00:00          259  GHCND:USW00014732  new york   \n10        10  2018-01-01 10:00:00          301  GHCND:USW00014732  new york   \n11        11  2018-01-01 11:00:00          436  GHCND:USW00014732  new york   \n12        12  2018-01-01 12:00:00          369  GHCND:USW00014732  new york   \n13        13  2018-01-01 13:00:00          347  GHCND:USW00014732  new york   \n14        14  2018-01-01 14:00:00          494  GHCND:USW00014732  new york   \n15        15  2018-01-01 15:00:00          544  GHCND:USW00014732  new york   \n16        16  2018-01-01 16:00:00          467  GHCND:USW00014732  new york   \n17        17  2018-01-01 17:00:00          690  GHCND:USW00014732  new york   \n18        18  2018-01-01 18:00:00          461  GHCND:USW00014732  new york   \n19        19  2018-01-01 19:00:00          465  GHCND:USW00014732  new york   \n20        20  2018-01-01 20:00:00          451  GHCND:USW00014732  new york   \n21        21  2018-01-01 21:00:00          556  GHCND:USW00014732  new york   \n22        22  2018-01-01 22:00:00          570  GHCND:USW00014732  new york   \n23        23  2018-01-01 23:00:00          499  GHCND:USW00014732  new york   \n24        24  2018-01-02 00:00:00          399  GHCND:USW00014732  new york   \n25        25  2018-01-02 01:00:00           13  GHCND:USW00014732  new york   \n26        26  2018-01-02 02:00:00           17  GHCND:USW00014732  new york   \n27        27  2018-01-02 03:00:00            1  GHCND:USW00014732  new york   \n28        28  2018-01-02 04:00:00            1  GHCND:USW00014732  new york   \n29        29  2018-01-02 05:00:00            8  GHCND:USW00014732  new york   \n30        30  2018-01-02 06:00:00           18  GHCND:USW00014732  new york   \n31        31  2018-01-02 07:00:00          203  GHCND:USW00014732  new york   \n32        32  2018-01-02 08:00:00          359  GHCND:USW00014732  new york   \n33        33  2018-01-02 09:00:00          641  GHCND:USW00014732  new york   \n34        34  2018-01-02 10:00:00          447  GHCND:USW00014732  new york   \n35        35  2018-01-02 11:00:00          598  GHCND:USW00014732  new york   \n36        36  2018-01-02 12:00:00          425  GHCND:USW00014732  new york   \n37        37  2018-01-02 13:00:00          475  GHCND:USW00014732  new york   \n38        38  2018-01-02 14:00:00          572  GHCND:USW00014732  new york   \n39        39  2018-01-02 15:00:00          432  GHCND:USW00014732  new york   \n40        40  2018-01-02 16:00:00          526  GHCND:USW00014732  new york   \n41        41  2018-01-02 17:00:00          577  GHCND:USW00014732  new york   \n42        42  2018-01-02 18:00:00          573  GHCND:USW00014732  new york   \n43        43  2018-01-02 19:00:00          537  GHCND:USW00014732  new york   \n44        44  2018-01-02 20:00:00          464  GHCND:USW00014732  new york   \n45        45  2018-01-02 21:00:00          549  GHCND:USW00014732  new york   \n46        46  2018-01-02 22:00:00          491  GHCND:USW00014732  new york   \n47        47  2018-01-02 23:00:00          394  GHCND:USW00014732  new york   \n\n    AWND  \n0     76  \n1     76  \n2     76  \n3     76  \n4     76  \n5     76  \n6     76  \n7     76  \n8     76  \n9     76  \n10    76  \n11    76  \n12    62  \n13    62  \n14    62  \n15    62  \n16    62  \n17    62  \n18    62  \n19    62  \n20    62  \n21    62  \n22    62  \n23    62  \n24    62  \n25    62  \n26    62  \n27    62  \n28    62  \n29    62  \n30    62  \n31    62  \n32    62  \n33    62  \n34    62  \n35    62  \n36    62  \n37    62  \n38    62  \n39    62  \n40    62  \n41    62  \n42    62  \n43    62  \n44    62  \n45    62  \n46    62  \n47    62  \n\n\n\n"
     ]
    },
    {
     "name": "stdout",
     "output_type": "stream",
     "text": [
      "========Direction of peak wind gust (degrees)========\nEmpty DataFrame\nColumns: [date, stationid, city, WDFG]\nIndex: []\n\n\n\n"
     ]
    },
    {
     "name": "stdout",
     "output_type": "stream",
     "text": [
      "========Direction of fastest 5-second wind (degrees)========\n                  date          stationid      city  WDF5\n0  2018-01-01T00:00:00  GHCND:USW00014732  new york   300\n1  2018-01-02T00:00:00  GHCND:USW00014732  new york   270\n\n - try to join with the queried one:\n    d3mIndex tpep_pickup_datetime  num_pickups          stationid      city  \\\n0          0  2018-01-01 00:00:00           67  GHCND:USW00014732  new york   \n1          1  2018-01-01 01:00:00            8  GHCND:USW00014732  new york   \n2          2  2018-01-01 02:00:00            0  GHCND:USW00014732  new york   \n3          3  2018-01-01 03:00:00            0  GHCND:USW00014732  new york   \n4          4  2018-01-01 04:00:00            7  GHCND:USW00014732  new york   \n5          5  2018-01-01 05:00:00           10  GHCND:USW00014732  new york   \n6          6  2018-01-01 06:00:00            9  GHCND:USW00014732  new york   \n7          7  2018-01-01 07:00:00           28  GHCND:USW00014732  new york   \n8          8  2018-01-01 08:00:00          157  GHCND:USW00014732  new york   \n9          9  2018-01-01 09:00:00          259  GHCND:USW00014732  new york   \n10        10  2018-01-01 10:00:00          301  GHCND:USW00014732  new york   \n11        11  2018-01-01 11:00:00          436  GHCND:USW00014732  new york   \n12        12  2018-01-01 12:00:00          369  GHCND:USW00014732  new york   \n13        13  2018-01-01 13:00:00          347  GHCND:USW00014732  new york   \n14        14  2018-01-01 14:00:00          494  GHCND:USW00014732  new york   \n15        15  2018-01-01 15:00:00          544  GHCND:USW00014732  new york   \n16        16  2018-01-01 16:00:00          467  GHCND:USW00014732  new york   \n17        17  2018-01-01 17:00:00          690  GHCND:USW00014732  new york   \n18        18  2018-01-01 18:00:00          461  GHCND:USW00014732  new york   \n19        19  2018-01-01 19:00:00          465  GHCND:USW00014732  new york   \n20        20  2018-01-01 20:00:00          451  GHCND:USW00014732  new york   \n21        21  2018-01-01 21:00:00          556  GHCND:USW00014732  new york   \n22        22  2018-01-01 22:00:00          570  GHCND:USW00014732  new york   \n23        23  2018-01-01 23:00:00          499  GHCND:USW00014732  new york   \n24        24  2018-01-02 00:00:00          399  GHCND:USW00014732  new york   \n25        25  2018-01-02 01:00:00           13  GHCND:USW00014732  new york   \n26        26  2018-01-02 02:00:00           17  GHCND:USW00014732  new york   \n27        27  2018-01-02 03:00:00            1  GHCND:USW00014732  new york   \n28        28  2018-01-02 04:00:00            1  GHCND:USW00014732  new york   \n29        29  2018-01-02 05:00:00            8  GHCND:USW00014732  new york   \n30        30  2018-01-02 06:00:00           18  GHCND:USW00014732  new york   \n31        31  2018-01-02 07:00:00          203  GHCND:USW00014732  new york   \n32        32  2018-01-02 08:00:00          359  GHCND:USW00014732  new york   \n33        33  2018-01-02 09:00:00          641  GHCND:USW00014732  new york   \n34        34  2018-01-02 10:00:00          447  GHCND:USW00014732  new york   \n35        35  2018-01-02 11:00:00          598  GHCND:USW00014732  new york   \n36        36  2018-01-02 12:00:00          425  GHCND:USW00014732  new york   \n37        37  2018-01-02 13:00:00          475  GHCND:USW00014732  new york   \n38        38  2018-01-02 14:00:00          572  GHCND:USW00014732  new york   \n39        39  2018-01-02 15:00:00          432  GHCND:USW00014732  new york   \n40        40  2018-01-02 16:00:00          526  GHCND:USW00014732  new york   \n41        41  2018-01-02 17:00:00          577  GHCND:USW00014732  new york   \n42        42  2018-01-02 18:00:00          573  GHCND:USW00014732  new york   \n43        43  2018-01-02 19:00:00          537  GHCND:USW00014732  new york   \n44        44  2018-01-02 20:00:00          464  GHCND:USW00014732  new york   \n45        45  2018-01-02 21:00:00          549  GHCND:USW00014732  new york   \n46        46  2018-01-02 22:00:00          491  GHCND:USW00014732  new york   \n47        47  2018-01-02 23:00:00          394  GHCND:USW00014732  new york   \n\n    WDF5  \n0    300  \n1    300  \n2    300  \n3    300  \n4    300  \n5    300  \n6    300  \n7    300  \n8    300  \n9    300  \n10   300  \n11   300  \n12   270  \n13   270  \n14   270  \n15   270  \n16   270  \n17   270  \n18   270  \n19   270  \n20   270  \n21   270  \n22   270  \n23   270  \n24   270  \n25   270  \n26   270  \n27   270  \n28   270  \n29   270  \n30   270  \n31   270  \n32   270  \n33   270  \n34   270  \n35   270  \n36   270  \n37   270  \n38   270  \n39   270  \n40   270  \n41   270  \n42   270  \n43   270  \n44   270  \n45   270  \n46   270  \n47   270  \n\n\n\n"
     ]
    },
    {
     "name": "stdout",
     "output_type": "stream",
     "text": [
      "========Fastest 5-second wind speed (tenths of meters per second)========\n                  date          stationid      city  WSF5\n0  2018-01-01T00:00:00  GHCND:USW00014732  new york   143\n1  2018-01-02T00:00:00  GHCND:USW00014732  new york   139\n\n - try to join with the queried one:\n    d3mIndex tpep_pickup_datetime  num_pickups          stationid      city  \\\n0          0  2018-01-01 00:00:00           67  GHCND:USW00014732  new york   \n1          1  2018-01-01 01:00:00            8  GHCND:USW00014732  new york   \n2          2  2018-01-01 02:00:00            0  GHCND:USW00014732  new york   \n3          3  2018-01-01 03:00:00            0  GHCND:USW00014732  new york   \n4          4  2018-01-01 04:00:00            7  GHCND:USW00014732  new york   \n5          5  2018-01-01 05:00:00           10  GHCND:USW00014732  new york   \n6          6  2018-01-01 06:00:00            9  GHCND:USW00014732  new york   \n7          7  2018-01-01 07:00:00           28  GHCND:USW00014732  new york   \n8          8  2018-01-01 08:00:00          157  GHCND:USW00014732  new york   \n9          9  2018-01-01 09:00:00          259  GHCND:USW00014732  new york   \n10        10  2018-01-01 10:00:00          301  GHCND:USW00014732  new york   \n11        11  2018-01-01 11:00:00          436  GHCND:USW00014732  new york   \n12        12  2018-01-01 12:00:00          369  GHCND:USW00014732  new york   \n13        13  2018-01-01 13:00:00          347  GHCND:USW00014732  new york   \n14        14  2018-01-01 14:00:00          494  GHCND:USW00014732  new york   \n15        15  2018-01-01 15:00:00          544  GHCND:USW00014732  new york   \n16        16  2018-01-01 16:00:00          467  GHCND:USW00014732  new york   \n17        17  2018-01-01 17:00:00          690  GHCND:USW00014732  new york   \n18        18  2018-01-01 18:00:00          461  GHCND:USW00014732  new york   \n19        19  2018-01-01 19:00:00          465  GHCND:USW00014732  new york   \n20        20  2018-01-01 20:00:00          451  GHCND:USW00014732  new york   \n21        21  2018-01-01 21:00:00          556  GHCND:USW00014732  new york   \n22        22  2018-01-01 22:00:00          570  GHCND:USW00014732  new york   \n23        23  2018-01-01 23:00:00          499  GHCND:USW00014732  new york   \n24        24  2018-01-02 00:00:00          399  GHCND:USW00014732  new york   \n25        25  2018-01-02 01:00:00           13  GHCND:USW00014732  new york   \n26        26  2018-01-02 02:00:00           17  GHCND:USW00014732  new york   \n27        27  2018-01-02 03:00:00            1  GHCND:USW00014732  new york   \n28        28  2018-01-02 04:00:00            1  GHCND:USW00014732  new york   \n29        29  2018-01-02 05:00:00            8  GHCND:USW00014732  new york   \n30        30  2018-01-02 06:00:00           18  GHCND:USW00014732  new york   \n31        31  2018-01-02 07:00:00          203  GHCND:USW00014732  new york   \n32        32  2018-01-02 08:00:00          359  GHCND:USW00014732  new york   \n33        33  2018-01-02 09:00:00          641  GHCND:USW00014732  new york   \n34        34  2018-01-02 10:00:00          447  GHCND:USW00014732  new york   \n35        35  2018-01-02 11:00:00          598  GHCND:USW00014732  new york   \n36        36  2018-01-02 12:00:00          425  GHCND:USW00014732  new york   \n37        37  2018-01-02 13:00:00          475  GHCND:USW00014732  new york   \n38        38  2018-01-02 14:00:00          572  GHCND:USW00014732  new york   \n39        39  2018-01-02 15:00:00          432  GHCND:USW00014732  new york   \n40        40  2018-01-02 16:00:00          526  GHCND:USW00014732  new york   \n41        41  2018-01-02 17:00:00          577  GHCND:USW00014732  new york   \n42        42  2018-01-02 18:00:00          573  GHCND:USW00014732  new york   \n43        43  2018-01-02 19:00:00          537  GHCND:USW00014732  new york   \n44        44  2018-01-02 20:00:00          464  GHCND:USW00014732  new york   \n45        45  2018-01-02 21:00:00          549  GHCND:USW00014732  new york   \n46        46  2018-01-02 22:00:00          491  GHCND:USW00014732  new york   \n47        47  2018-01-02 23:00:00          394  GHCND:USW00014732  new york   \n\n    WSF5  \n0    143  \n1    143  \n2    143  \n3    143  \n4    143  \n5    143  \n6    143  \n7    143  \n8    143  \n9    143  \n10   143  \n11   143  \n12   139  \n13   139  \n14   139  \n15   139  \n16   139  \n17   139  \n18   139  \n19   139  \n20   139  \n21   139  \n22   139  \n23   139  \n24   139  \n25   139  \n26   139  \n27   139  \n28   139  \n29   139  \n30   139  \n31   139  \n32   139  \n33   139  \n34   139  \n35   139  \n36   139  \n37   139  \n38   139  \n39   139  \n40   139  \n41   139  \n42   139  \n43   139  \n44   139  \n45   139  \n46   139  \n47   139  \n\n\n\n"
     ]
    },
    {
     "name": "stdout",
     "output_type": "stream",
     "text": [
      "========Highest instantaneous wind speed (tenths of meters per second)========\nEmpty DataFrame\nColumns: [date, stationid, city, WSFI]\nIndex: []\n\n\n\n"
     ]
    }
   ],
   "source": [
    "new_dfs = []\n",
    "for hitted in metadatas:\n",
    "    named_entity_column = None\n",
    "    for idx, variable in enumerate(hitted[\"_source\"][\"variables\"]):\n",
    "        if variable.get(\"named_entity\", None):\n",
    "            named_entity_column = idx\n",
    "            break\n",
    "    \n",
    "    df = Utils.get_dataset(\n",
    "        metadata=hitted[\"_source\"],\n",
    "        constrains={\n",
    "            \"named_entity\": {\n",
    "                named_entity_column: [\"new york\"]\n",
    "            },\n",
    "            \"date_range\": {\n",
    "                \"start\": \"2018-01-01T00:00:00\",\n",
    "                \"end\": \"2018-01-02T23:00:00\"\n",
    "            }\n",
    "        }\n",
    "    )\n",
    "    new_dfs.append(df)\n",
    "    print(\"========{}========\".format(hitted[\"_source\"][\"description\"]))\n",
    "    print(df)\n",
    "    \n",
    "    if len(df):\n",
    "        print(\"\\n - try to join with the queried one:\")\n",
    "        joined_df = augment.join(\n",
    "            left_df=old_df,\n",
    "            right_df=df,\n",
    "            left_columns=[[1]],  # date column index of old_df\n",
    "            right_columns=[[0]],  # date column index of new_df\n",
    "            left_metadata=None,\n",
    "            right_metadata=hitted[\"_source\"],\n",
    "            joiner=\"rltk\"\n",
    "        )\n",
    "        print(joined_df)\n",
    "    print(\"\\n\\n\")\n"
   ]
  },
  {
   "cell_type": "markdown",
   "metadata": {},
   "source": [
    "### We get some datasets related to `wind` from NOAA, how to join with old dataframe?\n",
    "### ISI is working on some join methods\n",
    "### First version rltk joiner is working as above."
   ]
  },
  {
   "cell_type": "code",
   "execution_count": null,
   "metadata": {},
   "outputs": [],
   "source": []
  }
 ],
 "metadata": {
  "kernelspec": {
   "display_name": "Python 2",
   "language": "python",
   "name": "python2"
  },
  "language_info": {
   "codemirror_mode": {
    "name": "ipython",
    "version": 2
   },
   "file_extension": ".py",
   "mimetype": "text/x-python",
   "name": "python",
   "nbconvert_exporter": "python",
   "pygments_lexer": "ipython2",
   "version": "2.7.6"
  }
 },
 "nbformat": 4,
 "nbformat_minor": 0
}
