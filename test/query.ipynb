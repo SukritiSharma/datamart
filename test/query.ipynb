{
 "cells": [
  {
   "cell_type": "code",
   "execution_count": 1,
   "metadata": {
    "collapsed": true
   },
   "outputs": [],
   "source": [
    "import sys, json, random, os\n",
    "sys.path.append(sys.path.append(os.path.join(os.getcwd(), '..')))\n",
    "from datamart.index_builder import IndexBuilder\n",
    "from datamart.query_manager import QueryManager"
   ]
  },
  {
   "cell_type": "code",
   "execution_count": 2,
   "metadata": {},
   "outputs": [],
   "source": [
    "es_index = \"datamart_noaa\"\n",
    "\n",
    "qm = QueryManager()"
   ]
  },
  {
   "cell_type": "markdown",
   "metadata": {},
   "source": [
    "Query any indicator has `average` in its description"
   ]
  },
  {
   "cell_type": "code",
   "execution_count": 3,
   "metadata": {},
   "outputs": [],
   "source": [
    "query_1 = json.dumps({\n",
    "    \"query\": {\n",
    "        \"bool\": {\n",
    "            \"must\": [\n",
    "                {\n",
    "                    \"match\": {\n",
    "                        \"variables.named_entity\": \"Los Angeles\"\n",
    "                    }\n",
    "                },\n",
    "                {\n",
    "                    \"match\": {\n",
    "                        \"variables.named_entity\": \"new york\"\n",
    "                    }\n",
    "                },\n",
    "                {\n",
    "                    \"match\": {\n",
    "                        \"description\": \"average\"\n",
    "                    }\n",
    "                }\n",
    "            ]\n",
    "        }\n",
    "    }\n",
    "})"
   ]
  },
  {
   "cell_type": "code",
   "execution_count": 4,
   "metadata": {},
   "outputs": [
    {
     "name": "stdout",
     "output_type": "stream",
     "text": [
      "6\n"
     ]
    }
   ],
   "source": [
    "hitted_metadatas = qm.search(index=es_index, body=query_1)\n",
    "\n",
    "print(len(hitted_metadatas))"
   ]
  },
  {
   "cell_type": "code",
   "execution_count": 5,
   "metadata": {},
   "outputs": [
    {
     "name": "stdout",
     "output_type": "stream",
     "text": [
      "====== HIT a metadata ======\n\n\n====== GET the dataset ======\n"
     ]
    },
    {
     "name": "stdout",
     "output_type": "stream",
     "text": [
      "Empty DataFrame\nColumns: [date, stationid, city, ACSH]\nIndex: []\n\n\n\n====== HIT a metadata ======\n\n\n====== GET the dataset ======\n"
     ]
    },
    {
     "name": "stdout",
     "output_type": "stream",
     "text": [
      "Empty DataFrame\nColumns: [date, stationid, city, ACMC]\nIndex: []\n\n\n\n====== HIT a metadata ======\n\n\n====== GET the dataset ======\n"
     ]
    },
    {
     "name": "stdout",
     "output_type": "stream",
     "text": [
      "                    date          stationid         city AWND\n55   2018-09-29T00:00:00  GHCND:USW00003167  los angeles   25\n112  2018-09-26T00:00:00  GHCND:USW00094789     new york   60\n120  2018-09-27T00:00:00  GHCND:USW00094789     new york   57\n53   2018-09-28T00:00:00  GHCND:USW00093197  los angeles   16\n45   2018-09-28T00:00:00  GHCND:USW00003166  los angeles   17\n4    2018-09-23T00:00:00  GHCND:USW00023152  los angeles   27\n41   2018-09-27T00:00:00  GHCND:USW00023174  los angeles   35\n65   2018-09-30T00:00:00  GHCND:USW00023129  los angeles   21\n12   2018-09-24T00:00:00  GHCND:USW00023130  los angeles   18\n79   2018-10-01T00:00:00  GHCND:USW00093184  los angeles   17\n\n\n\n====== HIT a metadata ======\n\n\n====== GET the dataset ======\n"
     ]
    },
    {
     "name": "stdout",
     "output_type": "stream",
     "text": [
      "Empty DataFrame\nColumns: [date, stationid, city, ACMH]\nIndex: []\n\n\n\n====== HIT a metadata ======\n\n\n====== GET the dataset ======\n"
     ]
    },
    {
     "name": "stdout",
     "output_type": "stream",
     "text": [
      "Empty DataFrame\nColumns: [date, stationid, city, ACSC]\nIndex: []\n\n\n\n====== HIT a metadata ======\n\n\n====== GET the dataset ======\n"
     ]
    },
    {
     "name": "stdout",
     "output_type": "stream",
     "text": [
      "                   date          stationid         city TAVG\n99  2018-10-01T00:00:00  GHCND:USR0000CMAL  los angeles  254\n28  2018-09-25T00:00:00  GHCND:USR0000CLTU  los angeles  178\n42  2018-09-26T00:00:00  GHCND:USR0000CSFD  los angeles  217\n14  2018-09-24T00:00:00  GHCND:USR0000CCHI  los angeles  208\n77  2018-09-29T00:00:00  GHCND:USW00023129  los angeles  207\n2   2018-09-23T00:00:00  GHCND:USR0000CCHB  los angeles  228\n52  2018-09-27T00:00:00  GHCND:USR0000CMIL  los angeles  238\n69  2018-09-29T00:00:00  GHCND:USR0000CCHI  los angeles  175\n51  2018-09-27T00:00:00  GHCND:USR0000CMAL  los angeles  251\n83  2018-09-30T00:00:00  GHCND:USR0000CCLE  los angeles  214\n\n\n\n"
     ]
    }
   ],
   "source": [
    "for metadata in hitted_metadatas:\n",
    "    print(\"====== HIT a metadata ======\")\n",
    "    print(\"\\n\")\n",
    "    print(\"====== GET the dataset ======\")\n",
    "    df = qm.get_dataset(metadata=metadata, variables=None, constrains={\n",
    "        \"locations\": [\"los angeles\", \"new york\"],\n",
    "        \"date_range\": {\n",
    "            \"start\": \"2018-09-23T00:00:00\",\n",
    "            \"end\": \"2018-10-01T00:00:00\"\n",
    "        }\n",
    "    })\n",
    "    if df.shape[0] >= 10:\n",
    "        print(df.iloc[random.sample(range(1, df.shape[0]), 10), :])\n",
    "    else:\n",
    "        print(df)\n",
    "    print(\"\\n\\n\")"
   ]
  }
 ],
 "metadata": {
  "kernelspec": {
   "display_name": "Python 2",
   "language": "python",
   "name": "python2"
  },
  "language_info": {
   "codemirror_mode": {
    "name": "ipython",
    "version": 2
   },
   "file_extension": ".py",
   "mimetype": "text/x-python",
   "name": "python",
   "nbconvert_exporter": "python",
   "pygments_lexer": "ipython2",
   "version": "2.7.6"
  }
 },
 "nbformat": 4,
 "nbformat_minor": 0
}
